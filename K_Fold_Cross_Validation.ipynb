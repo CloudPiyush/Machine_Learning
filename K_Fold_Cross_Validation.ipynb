{
 "cells": [
  {
   "cell_type": "code",
   "execution_count": 20,
   "metadata": {},
   "outputs": [],
   "source": [
    "# from sklearn.model_selection import KFold\n",
    "# from sklearn.linear_model import LogisticRegression\n",
    "# from sklearn.ensemble import RandomForestClassifier\n",
    "# from sklearn.svm import SVC\n",
    "# from sklearn.model_selection import train_test_split\n",
    "# from sklearn.datasets import load_digits\n",
    "\n",
    "# Data = load_digits()"
   ]
  },
  {
   "cell_type": "code",
   "execution_count": 51,
   "metadata": {},
   "outputs": [],
   "source": [
    "# X_train, X_test, y_train, y_test = train_test_split(Data.data,Data.target,test_size=0.2)\n"
   ]
  },
  {
   "cell_type": "code",
   "execution_count": 53,
   "metadata": {},
   "outputs": [],
   "source": [
    "# LogRegress = LogisticRegression(solver='saga',multi_class='multinomial')\n",
    "# LogRegress.fit(X_train,y_train)\n",
    "# LogRegress.score(X_test,y_test)"
   ]
  },
  {
   "cell_type": "code",
   "execution_count": 54,
   "metadata": {},
   "outputs": [],
   "source": [
    "# RandForest = RandomForestClassifier(n_estimators=40)\n",
    "# RandForest.fit(X_train,y_train)\n",
    "# RandForest.score(X_test,y_test)"
   ]
  },
  {
   "cell_type": "code",
   "execution_count": 55,
   "metadata": {},
   "outputs": [],
   "source": [
    "# SVM = SVC(gamma='scale')\n",
    "# SVM.fit(X_train,y_train)\n",
    "# SVM.score(X_test,y_test)"
   ]
  },
  {
   "cell_type": "code",
   "execution_count": 36,
   "metadata": {},
   "outputs": [
    {
     "data": {
      "text/plain": [
       "array([0.89482471, 0.95325543, 0.90984975])"
      ]
     },
     "execution_count": 36,
     "metadata": {},
     "output_type": "execute_result"
    }
   ],
   "source": [
    "# from sklearn.model_selection import cross_val_score\n",
    "# cross_val_score(LogisticRegression(solver='liblinear',multi_class='auto'),Data.data,Data.target,cv=3)"
   ]
  },
  {
   "cell_type": "code",
   "execution_count": 41,
   "metadata": {},
   "outputs": [
    {
     "data": {
      "text/plain": [
       "array([0.96661102, 0.97829716, 0.97495826])"
      ]
     },
     "execution_count": 41,
     "metadata": {},
     "output_type": "execute_result"
    }
   ],
   "source": [
    "# cross_val_score(SVC(gamma='scale',C=4),Data.data,Data.target,cv=3)"
   ]
  },
  {
   "cell_type": "code",
   "execution_count": 42,
   "metadata": {},
   "outputs": [
    {
     "data": {
      "text/plain": [
       "array([0.9115192 , 0.94991653, 0.92153589])"
      ]
     },
     "execution_count": 42,
     "metadata": {},
     "output_type": "execute_result"
    }
   ],
   "source": [
    "# cross_val_score(RandomForestClassifier(n_estimators=30),Data.data,Data.target,cv=3)"
   ]
  },
  {
   "cell_type": "code",
   "execution_count": 22,
   "metadata": {},
   "outputs": [
    {
     "name": "stdout",
     "output_type": "stream",
     "text": [
      "\n",
      "The Cross Validation score Avarage of Logistic Regression    is : 0.9193099610461881\n",
      "\n",
      "The Cross Validation score Avarage of Support Vector Machine is : 0.9699499165275459\n",
      "\n",
      "The Cross Validation score Avarage of Randm Forest Clasifier is : 0.9337785197551475\n"
     ]
    }
   ],
   "source": [
    "# from sklearn.model_selection import StratifiedKFold\n",
    "# import numpy\n",
    "# Kfold = StratifiedKFold(n_splits=3)\n",
    "# Log = []\n",
    "# Svm = []\n",
    "# Rmf = []\n",
    "\n",
    "# def GetScore(Model, X_train, X_test, y_train, y_test):\n",
    "#     Model.fit(X_train,y_train)\n",
    "#     return Model.score(X_test,y_test)\n",
    "\n",
    "# for train_index , test_index in Kfold.split(Data.data,Data.target):\n",
    "#     X_train, X_test, y_train, y_test = Data.data[train_index],Data.data[test_index] , \\\n",
    "#                                        Data.target[train_index],Data.target[test_index]\n",
    "#     Log.append(GetScore(LogisticRegression(solver='liblinear',multi_class='ovr'), X_train, X_test, y_train, y_test))\n",
    "#     Svm.append(GetScore(SVC(gamma='scale'), X_train, X_test, y_train, y_test))\n",
    "#     Rmf.append(GetScore(RandomForestClassifier(n_estimators=30), X_train, X_test, y_train, y_test))\n",
    "\n",
    "# print('\\nThe Cross Validation score Avarage of Logistic Regression    is :',numpy.average(Log))\n",
    "# print('\\nThe Cross Validation score Avarage of Support Vector Machine is :',numpy.average(Svm))\n",
    "# print('\\nThe Cross Validation score Avarage of Randm Forest Clasifier is :',numpy.average(Rmf))"
   ]
  },
  {
   "cell_type": "code",
   "execution_count": 20,
   "metadata": {},
   "outputs": [
    {
     "data": {
      "text/plain": [
       "['DESCR',\n",
       " 'data',\n",
       " 'data_module',\n",
       " 'feature_names',\n",
       " 'filename',\n",
       " 'frame',\n",
       " 'target',\n",
       " 'target_names']"
      ]
     },
     "execution_count": 20,
     "metadata": {},
     "output_type": "execute_result"
    }
   ],
   "source": [
    "# '''Exercise for the K-Fold And Cross Value Change'''\n",
    "# import numpy\n",
    "# from sklearn.datasets import load_iris\n",
    "# from sklearn.model_selection import cross_val_score\n",
    "# from sklearn.ensemble import RandomForestClassifier\n",
    "# from sklearn import linear_model\n",
    "# from sklearn import tree\n",
    "# from sklearn import svm\n",
    "\n",
    "# Data = load_iris()\n",
    "# dir(Data)"
   ]
  },
  {
   "cell_type": "code",
   "execution_count": 32,
   "metadata": {},
   "outputs": [
    {
     "data": {
      "text/plain": [
       "array([0.98, 0.94, 0.96])"
      ]
     },
     "execution_count": 32,
     "metadata": {},
     "output_type": "execute_result"
    }
   ],
   "source": [
    "# RFC_score = cross_val_score(RandomForestClassifier(),Data.data,Data.target,cv=3)\n",
    "# RFC_score"
   ]
  },
  {
   "cell_type": "code",
   "execution_count": 27,
   "metadata": {},
   "outputs": [
    {
     "data": {
      "text/plain": [
       "array([0.96, 0.96, 0.94])"
      ]
     },
     "execution_count": 27,
     "metadata": {},
     "output_type": "execute_result"
    }
   ],
   "source": [
    "# LGR_Score = cross_val_score(linear_model.LogisticRegression(solver='liblinear'),Data.data,Data.target,cv=3)\n",
    "# LGR_Score"
   ]
  },
  {
   "cell_type": "code",
   "execution_count": 29,
   "metadata": {},
   "outputs": [
    {
     "data": {
      "text/plain": [
       "array([0.98, 0.94, 1.  ])"
      ]
     },
     "execution_count": 29,
     "metadata": {},
     "output_type": "execute_result"
    }
   ],
   "source": [
    "# DTC_score = cross_val_score(tree.DecisionTreeClassifier(),Data.data,Data.target,cv=3)\n",
    "# DTC_score"
   ]
  },
  {
   "cell_type": "code",
   "execution_count": 31,
   "metadata": {},
   "outputs": [
    {
     "data": {
      "text/plain": [
       "array([0.96, 0.98, 0.94])"
      ]
     },
     "execution_count": 31,
     "metadata": {},
     "output_type": "execute_result"
    }
   ],
   "source": [
    "# SVM_Score = cross_val_score(svm.SVC(gamma='scale'),Data.data,Data.target,cv=3)\n",
    "#SVM_Score"
   ]
  },
  {
   "cell_type": "code",
   "execution_count": 33,
   "metadata": {},
   "outputs": [
    {
     "name": "stdout",
     "output_type": "stream",
     "text": [
      "\n",
      "The Avarage of Logistric Regression Model is :0.9533333333333333.\n",
      "\n",
      "The Avarage of Random Forest Classifier Model is :0.96.\n",
      "\n",
      "The Avarage of Data Distribution Classifier Model is :0.9666666666666667.\n",
      "\n",
      "The Avarage of Support vector Machine Model is :0.96.\n"
     ]
    }
   ],
   "source": [
    "# print('\\nThe Avarage of Logistric Regression Model is :{0}.'.format(numpy.average(LGR_Score)))\n",
    "# print('\\nThe Avarage of Random Forest Classifier Model is :{0}.'.format(numpy.average(RFC_score)))\n",
    "# print('\\nThe Avarage of Data Distribution Classifier Model is :{0}.'.format(numpy.average(DTC_score)))\n",
    "# print('\\nThe Avarage of Support vector Machine Model is :{0}.'.format(numpy.average(SVM_Score)))"
   ]
  }
 ],
 "metadata": {
  "kernelspec": {
   "display_name": "Python 3",
   "language": "python",
   "name": "python3"
  },
  "language_info": {
   "codemirror_mode": {
    "name": "ipython",
    "version": 3
   },
   "file_extension": ".py",
   "mimetype": "text/x-python",
   "name": "python",
   "nbconvert_exporter": "python",
   "pygments_lexer": "ipython3",
   "version": "3.11.6"
  }
 },
 "nbformat": 4,
 "nbformat_minor": 2
}
